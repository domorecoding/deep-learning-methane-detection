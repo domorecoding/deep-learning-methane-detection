{
  "nbformat": 4,
  "nbformat_minor": 0,
  "metadata": {
    "colab": {
      "name": "Methane Lab.ipynb",
      "provenance": [],
      "authorship_tag": "ABX9TyP2TRnxibhwWnnQzR8YZFU9",
      "include_colab_link": true
    },
    "kernelspec": {
      "name": "python3",
      "display_name": "Python 3"
    },
    "language_info": {
      "name": "python"
    }
  },
  "cells": [
    {
      "cell_type": "markdown",
      "metadata": {
        "id": "view-in-github",
        "colab_type": "text"
      },
      "source": [
        "<a href=\"https://colab.research.google.com/github/domorecoding/deep-learning-methane-detection/blob/main/Methane_Lab.ipynb\" target=\"_parent\"><img src=\"https://colab.research.google.com/assets/colab-badge.svg\" alt=\"Open In Colab\"/></a>"
      ]
    },
    {
      "cell_type": "code",
      "metadata": {
        "colab": {
          "base_uri": "https://localhost:8080/"
        },
        "id": "AuujBv7qxgkM",
        "outputId": "52f79845-fc57-4bea-b5f9-5179fe5d24c2"
      },
      "source": [
        "!git clone https://github.com/satish1901/Methane-detection-from-hyperspectral-imagery.git"
      ],
      "execution_count": 1,
      "outputs": [
        {
          "output_type": "stream",
          "text": [
            "Cloning into 'Methane-detection-from-hyperspectral-imagery'...\n",
            "remote: Enumerating objects: 641, done.\u001b[K\n",
            "remote: Counting objects: 100% (183/183), done.\u001b[K\n",
            "remote: Compressing objects: 100% (168/168), done.\u001b[K\n",
            "remote: Total 641 (delta 119), reused 26 (delta 14), pack-reused 458\u001b[K\n",
            "Receiving objects: 100% (641/641), 6.50 MiB | 32.45 MiB/s, done.\n",
            "Resolving deltas: 100% (283/283), done.\n"
          ],
          "name": "stdout"
        }
      ]
    },
    {
      "cell_type": "code",
      "metadata": {
        "colab": {
          "base_uri": "https://localhost:8080/"
        },
        "id": "QhHaFPLpx8vn",
        "outputId": "666227a2-3efe-446b-b015-1d35c44b7d45"
      },
      "source": [
        "cd ./Methane-detection-from-hyperspectral-imagery/single_detector/src/custom-mask-rcnn-detector/mask_rcnn"
      ],
      "execution_count": 15,
      "outputs": [
        {
          "output_type": "stream",
          "text": [
            "/content/Methane-detection-from-hyperspectral-imagery/single_detector/src/custom-mask-rcnn-detector/mask_rcnn\n"
          ],
          "name": "stdout"
        }
      ]
    },
    {
      "cell_type": "code",
      "metadata": {
        "colab": {
          "base_uri": "https://localhost:8080/"
        },
        "id": "gaRqk8Yqy0xr",
        "outputId": "0a835da5-e79e-4276-d567-daa455a582eb"
      },
      "source": [
        "!python setup.py install"
      ],
      "execution_count": 16,
      "outputs": [
        {
          "output_type": "stream",
          "text": [
            "WARNING:root:Fail load requirements file, so using default ones.\n",
            "/usr/local/lib/python3.7/dist-packages/setuptools/dist.py:700: UserWarning: Usage of dash-separated 'description-file' will not be supported in future versions. Please use the underscore name 'description_file' instead\n",
            "  % (opt, underscore_opt))\n",
            "/usr/local/lib/python3.7/dist-packages/setuptools/dist.py:700: UserWarning: Usage of dash-separated 'license-file' will not be supported in future versions. Please use the underscore name 'license_file' instead\n",
            "  % (opt, underscore_opt))\n",
            "/usr/local/lib/python3.7/dist-packages/setuptools/dist.py:700: UserWarning: Usage of dash-separated 'requirements-file' will not be supported in future versions. Please use the underscore name 'requirements_file' instead\n",
            "  % (opt, underscore_opt))\n",
            "running install\n",
            "running bdist_egg\n",
            "running egg_info\n",
            "writing mask_rcnn.egg-info/PKG-INFO\n",
            "writing dependency_links to mask_rcnn.egg-info/dependency_links.txt\n",
            "writing top-level names to mask_rcnn.egg-info/top_level.txt\n",
            "reading manifest template 'MANIFEST.in'\n",
            "adding license file 'LICENSE'\n",
            "writing manifest file 'mask_rcnn.egg-info/SOURCES.txt'\n",
            "installing library code to build/bdist.linux-x86_64/egg\n",
            "running install_lib\n",
            "running build_py\n",
            "creating build/lib/mrcnn/__pycache__\n",
            "copying mrcnn/__pycache__/__init__.cpython-36.pyc -> build/lib/mrcnn/__pycache__\n",
            "creating build/bdist.linux-x86_64\n",
            "creating build/bdist.linux-x86_64/egg\n",
            "creating build/bdist.linux-x86_64/egg/mrcnn\n",
            "copying build/lib/mrcnn/model.py -> build/bdist.linux-x86_64/egg/mrcnn\n",
            "copying build/lib/mrcnn/visualize.py -> build/bdist.linux-x86_64/egg/mrcnn\n",
            "copying build/lib/mrcnn/__init__.py -> build/bdist.linux-x86_64/egg/mrcnn\n",
            "creating build/bdist.linux-x86_64/egg/mrcnn/__pycache__\n",
            "copying build/lib/mrcnn/__pycache__/__init__.cpython-36.pyc -> build/bdist.linux-x86_64/egg/mrcnn/__pycache__\n",
            "copying build/lib/mrcnn/parallel_model.py -> build/bdist.linux-x86_64/egg/mrcnn\n",
            "copying build/lib/mrcnn/config.py -> build/bdist.linux-x86_64/egg/mrcnn\n",
            "copying build/lib/mrcnn/utils.py -> build/bdist.linux-x86_64/egg/mrcnn\n",
            "copying build/lib/mrcnn/model1.py -> build/bdist.linux-x86_64/egg/mrcnn\n",
            "byte-compiling build/bdist.linux-x86_64/egg/mrcnn/model.py to model.cpython-37.pyc\n",
            "byte-compiling build/bdist.linux-x86_64/egg/mrcnn/visualize.py to visualize.cpython-37.pyc\n",
            "byte-compiling build/bdist.linux-x86_64/egg/mrcnn/__init__.py to __init__.cpython-37.pyc\n",
            "byte-compiling build/bdist.linux-x86_64/egg/mrcnn/parallel_model.py to parallel_model.cpython-37.pyc\n",
            "byte-compiling build/bdist.linux-x86_64/egg/mrcnn/config.py to config.cpython-37.pyc\n",
            "byte-compiling build/bdist.linux-x86_64/egg/mrcnn/utils.py to utils.cpython-37.pyc\n",
            "byte-compiling build/bdist.linux-x86_64/egg/mrcnn/model1.py to model1.cpython-37.pyc\n",
            "creating build/bdist.linux-x86_64/egg/EGG-INFO\n",
            "copying mask_rcnn.egg-info/PKG-INFO -> build/bdist.linux-x86_64/egg/EGG-INFO\n",
            "copying mask_rcnn.egg-info/SOURCES.txt -> build/bdist.linux-x86_64/egg/EGG-INFO\n",
            "copying mask_rcnn.egg-info/dependency_links.txt -> build/bdist.linux-x86_64/egg/EGG-INFO\n",
            "copying mask_rcnn.egg-info/top_level.txt -> build/bdist.linux-x86_64/egg/EGG-INFO\n",
            "zip_safe flag not set; analyzing archive contents...\n",
            "Traceback (most recent call last):\n",
            "  File \"setup.py\", line 67, in <module>\n",
            "    keywords=\"image instance segmentation object detection mask rcnn r-cnn tensorflow keras\",\n",
            "  File \"/usr/local/lib/python3.7/dist-packages/setuptools/__init__.py\", line 153, in setup\n",
            "    return distutils.core.setup(**attrs)\n",
            "  File \"/usr/lib/python3.7/distutils/core.py\", line 148, in setup\n",
            "    dist.run_commands()\n",
            "  File \"/usr/lib/python3.7/distutils/dist.py\", line 966, in run_commands\n",
            "    self.run_command(cmd)\n",
            "  File \"/usr/lib/python3.7/distutils/dist.py\", line 985, in run_command\n",
            "    cmd_obj.run()\n",
            "  File \"/usr/local/lib/python3.7/dist-packages/setuptools/command/install.py\", line 67, in run\n",
            "    self.do_egg_install()\n",
            "  File \"/usr/local/lib/python3.7/dist-packages/setuptools/command/install.py\", line 109, in do_egg_install\n",
            "    self.run_command('bdist_egg')\n",
            "  File \"/usr/lib/python3.7/distutils/cmd.py\", line 313, in run_command\n",
            "    self.distribution.run_command(command)\n",
            "  File \"/usr/lib/python3.7/distutils/dist.py\", line 985, in run_command\n",
            "    cmd_obj.run()\n",
            "  File \"/usr/local/lib/python3.7/dist-packages/setuptools/command/bdist_egg.py\", line 212, in run\n",
            "    os.path.join(archive_root, 'EGG-INFO'), self.zip_safe()\n",
            "  File \"/usr/local/lib/python3.7/dist-packages/setuptools/command/bdist_egg.py\", line 265, in zip_safe\n",
            "    return analyze_egg(self.bdist_dir, self.stubs)\n",
            "  File \"/usr/local/lib/python3.7/dist-packages/setuptools/command/bdist_egg.py\", line 339, in analyze_egg\n",
            "    safe = scan_module(egg_dir, base, name, stubs) and safe\n",
            "  File \"/usr/local/lib/python3.7/dist-packages/setuptools/command/bdist_egg.py\", line 376, in scan_module\n",
            "    code = marshal.load(f)\n",
            "ValueError: bad marshal data (unknown type code)\n"
          ],
          "name": "stdout"
        }
      ]
    },
    {
      "cell_type": "code",
      "metadata": {
        "colab": {
          "base_uri": "https://localhost:8080/"
        },
        "id": "DO2iA1340uiM",
        "outputId": "cbca04d5-e5d2-4e7a-cac3-6dfd7c8bff69"
      },
      "source": [
        "!python"
      ],
      "execution_count": 17,
      "outputs": [
        {
          "output_type": "stream",
          "text": [
            "Python 3.7.11 (default, Jul  3 2021, 18:01:19) \n",
            "[GCC 7.5.0] on linux\n",
            "Type \"help\", \"copyright\", \"credits\" or \"license\" for more information.\n",
            ">>> exit()\n"
          ],
          "name": "stdout"
        }
      ]
    },
    {
      "cell_type": "code",
      "metadata": {
        "colab": {
          "base_uri": "https://localhost:8080/"
        },
        "id": "b-lwcpeLRKlq",
        "outputId": "9273ac6b-a593-4f4a-986d-2563897256e0"
      },
      "source": [
        "!pip install -r /content/Methane-detection-from-hyperspectral-imagery/requirements.txt"
      ],
      "execution_count": 18,
      "outputs": [
        {
          "output_type": "stream",
          "text": [
            "Collecting absl-py==0.7.1\n",
            "  Downloading absl-py-0.7.1.tar.gz (99 kB)\n",
            "\u001b[?25l\r\u001b[K     |███▎                            | 10 kB 24.8 MB/s eta 0:00:01\r\u001b[K     |██████▋                         | 20 kB 29.7 MB/s eta 0:00:01\r\u001b[K     |█████████▉                      | 30 kB 32.4 MB/s eta 0:00:01\r\u001b[K     |█████████████▏                  | 40 kB 20.6 MB/s eta 0:00:01\r\u001b[K     |████████████████▍               | 51 kB 9.0 MB/s eta 0:00:01\r\u001b[K     |███████████████████▊            | 61 kB 9.6 MB/s eta 0:00:01\r\u001b[K     |███████████████████████         | 71 kB 7.9 MB/s eta 0:00:01\r\u001b[K     |██████████████████████████▎     | 81 kB 8.8 MB/s eta 0:00:01\r\u001b[K     |█████████████████████████████▌  | 92 kB 7.6 MB/s eta 0:00:01\r\u001b[K     |████████████████████████████████| 99 kB 4.8 MB/s \n",
            "\u001b[?25hCollecting astor==0.8.0\n",
            "  Downloading astor-0.8.0-py2.py3-none-any.whl (27 kB)\n",
            "Collecting backcall==0.1.0\n",
            "  Downloading backcall-0.1.0.zip (11 kB)\n",
            "Collecting bleach==1.5.0\n",
            "  Downloading bleach-1.5.0-py2.py3-none-any.whl (17 kB)\n",
            "Collecting coloredlogs==10.0\n",
            "  Downloading coloredlogs-10.0-py2.py3-none-any.whl (47 kB)\n",
            "\u001b[K     |████████████████████████████████| 47 kB 4.8 MB/s \n",
            "\u001b[?25hRequirement already satisfied: cycler==0.10.0 in /usr/local/lib/python3.7/dist-packages (from -r /content/Methane-detection-from-hyperspectral-imagery/requirements.txt (line 6)) (0.10.0)\n",
            "Collecting decorator==4.4.0\n",
            "  Downloading decorator-4.4.0-py2.py3-none-any.whl (8.3 kB)\n",
            "Collecting gast==0.2.2\n",
            "  Downloading gast-0.2.2.tar.gz (10 kB)\n",
            "Collecting grpcio==1.22.0\n",
            "  Downloading grpcio-1.22.0-cp37-cp37m-manylinux1_x86_64.whl (2.2 MB)\n",
            "\u001b[K     |████████████████████████████████| 2.2 MB 34.7 MB/s \n",
            "\u001b[?25hCollecting h5py==2.9.0\n",
            "  Downloading h5py-2.9.0-cp37-cp37m-manylinux1_x86_64.whl (2.8 MB)\n",
            "\u001b[K     |████████████████████████████████| 2.8 MB 25.0 MB/s \n",
            "\u001b[?25hCollecting html5lib==0.9999999\n",
            "  Downloading html5lib-0.9999999.tar.gz (889 kB)\n",
            "\u001b[K     |████████████████████████████████| 889 kB 28.4 MB/s \n",
            "\u001b[?25hCollecting humanfriendly==4.18\n",
            "  Downloading humanfriendly-4.18-py2.py3-none-any.whl (73 kB)\n",
            "\u001b[K     |████████████████████████████████| 73 kB 1.9 MB/s \n",
            "\u001b[?25hCollecting imageio==2.5.0\n",
            "  Downloading imageio-2.5.0-py3-none-any.whl (3.3 MB)\n",
            "\u001b[K     |████████████████████████████████| 3.3 MB 42.4 MB/s \n",
            "\u001b[?25hCollecting imutils==0.5.2\n",
            "  Downloading imutils-0.5.2.tar.gz (15 kB)\n",
            "Collecting ipython==7.6.1\n",
            "  Downloading ipython-7.6.1-py3-none-any.whl (774 kB)\n",
            "\u001b[K     |████████████████████████████████| 774 kB 65.2 MB/s \n",
            "\u001b[?25hRequirement already satisfied: ipython-genutils==0.2.0 in /usr/local/lib/python3.7/dist-packages (from -r /content/Methane-detection-from-hyperspectral-imagery/requirements.txt (line 16)) (0.2.0)\n",
            "Collecting jedi==0.14.0\n",
            "  Downloading jedi-0.14.0-py2.py3-none-any.whl (1.0 MB)\n",
            "\u001b[K     |████████████████████████████████| 1.0 MB 57.2 MB/s \n",
            "\u001b[?25hCollecting joblib==0.13.2\n",
            "  Downloading joblib-0.13.2-py2.py3-none-any.whl (278 kB)\n",
            "\u001b[K     |████████████████████████████████| 278 kB 69.2 MB/s \n",
            "\u001b[?25hCollecting Keras==2.2.4\n",
            "  Downloading Keras-2.2.4-py2.py3-none-any.whl (312 kB)\n",
            "\u001b[K     |████████████████████████████████| 312 kB 70.5 MB/s \n",
            "\u001b[?25hCollecting Keras-Applications==1.0.8\n",
            "  Downloading Keras_Applications-1.0.8-py3-none-any.whl (50 kB)\n",
            "\u001b[K     |████████████████████████████████| 50 kB 6.7 MB/s \n",
            "\u001b[?25hCollecting Keras-Preprocessing==1.1.0\n",
            "  Downloading Keras_Preprocessing-1.1.0-py2.py3-none-any.whl (41 kB)\n",
            "\u001b[K     |████████████████████████████████| 41 kB 736 kB/s \n",
            "\u001b[?25hCollecting kiwisolver==1.1.0\n",
            "  Downloading kiwisolver-1.1.0-cp37-cp37m-manylinux1_x86_64.whl (90 kB)\n",
            "\u001b[K     |████████████████████████████████| 90 kB 10.7 MB/s \n",
            "\u001b[?25hCollecting Markdown==3.1.1\n",
            "  Downloading Markdown-3.1.1-py2.py3-none-any.whl (87 kB)\n",
            "\u001b[K     |████████████████████████████████| 87 kB 7.7 MB/s \n",
            "\u001b[31mERROR: Could not find a version that satisfies the requirement mask-rcnn==2.1 (from versions: none)\u001b[0m\n",
            "\u001b[31mERROR: No matching distribution found for mask-rcnn==2.1\u001b[0m\n",
            "\u001b[?25h"
          ],
          "name": "stdout"
        }
      ]
    },
    {
      "cell_type": "code",
      "metadata": {
        "colab": {
          "base_uri": "https://localhost:8080/"
        },
        "id": "4JrYif2PRdqZ",
        "outputId": "d5d5a09f-2d85-4ab7-d66b-687fe08a8264"
      },
      "source": [
        "!pip install mrcnn\n",
        "#potential error, installed version 0.0.1 instead of required 2.1\n",
        "\n",
        "!pip install coloredlogs\n",
        "\n",
        "!pip install spectral"
      ],
      "execution_count": 19,
      "outputs": [
        {
          "output_type": "stream",
          "text": [
            "Collecting mrcnn\n",
            "  Downloading mrcnn-0.2.tar.gz (51 kB)\n",
            "\u001b[?25l\r\u001b[K     |██████▍                         | 10 kB 22.6 MB/s eta 0:00:01\r\u001b[K     |████████████▊                   | 20 kB 27.1 MB/s eta 0:00:01\r\u001b[K     |███████████████████             | 30 kB 27.1 MB/s eta 0:00:01\r\u001b[K     |█████████████████████████▌      | 40 kB 21.5 MB/s eta 0:00:01\r\u001b[K     |███████████████████████████████▉| 51 kB 9.9 MB/s eta 0:00:01\r\u001b[K     |████████████████████████████████| 51 kB 270 kB/s \n",
            "\u001b[?25hBuilding wheels for collected packages: mrcnn\n",
            "  Building wheel for mrcnn (setup.py) ... \u001b[?25l\u001b[?25hdone\n",
            "  Created wheel for mrcnn: filename=mrcnn-0.2-py3-none-any.whl size=54930 sha256=b276108c8648269e596654a3320389b7d95c763c79bc40feb092de652b2806eb\n",
            "  Stored in directory: /root/.cache/pip/wheels/1d/94/0d/03ff96abc43d2d6c8299a92cbb4eced2a1eda3ca7911c19427\n",
            "Successfully built mrcnn\n",
            "Installing collected packages: mrcnn\n",
            "Successfully installed mrcnn-0.2\n",
            "Collecting coloredlogs\n",
            "  Downloading coloredlogs-15.0.1-py2.py3-none-any.whl (46 kB)\n",
            "\u001b[K     |████████████████████████████████| 46 kB 2.3 MB/s \n",
            "\u001b[?25hCollecting humanfriendly>=9.1\n",
            "  Downloading humanfriendly-9.2-py2.py3-none-any.whl (86 kB)\n",
            "\u001b[K     |████████████████████████████████| 86 kB 4.4 MB/s \n",
            "\u001b[?25hInstalling collected packages: humanfriendly, coloredlogs\n",
            "Successfully installed coloredlogs-15.0.1 humanfriendly-9.2\n",
            "Collecting spectral\n",
            "  Downloading spectral-0.22.2.tar.gz (184 kB)\n",
            "\u001b[K     |████████████████████████████████| 184 kB 7.7 MB/s \n",
            "\u001b[?25hRequirement already satisfied: numpy in /usr/local/lib/python3.7/dist-packages (from spectral) (1.19.5)\n",
            "Building wheels for collected packages: spectral\n",
            "  Building wheel for spectral (setup.py) ... \u001b[?25l\u001b[?25hdone\n",
            "  Created wheel for spectral: filename=spectral-0.22.2-py3-none-any.whl size=212954 sha256=bdaad61a337d2d1676b8a3a3b904ac4b9fc5a867d9e94de82c1ab071dbf3d9c7\n",
            "  Stored in directory: /root/.cache/pip/wheels/8b/3c/53/b5300d56bee75c16de9b19cd481c419cc63929f2e4019a6235\n",
            "Successfully built spectral\n",
            "Installing collected packages: spectral\n",
            "Successfully installed spectral-0.22.2\n"
          ],
          "name": "stdout"
        }
      ]
    },
    {
      "cell_type": "code",
      "metadata": {
        "colab": {
          "base_uri": "https://localhost:8080/"
        },
        "id": "PGxx8LjkkDb4",
        "outputId": "ac062dec-15aa-41e5-ab64-49a0a7234df1"
      },
      "source": [
        "%cd ..\n",
        "from google.colab import drive\n",
        "drive.mount('/content/gdrive')\n",
        "\n",
        "!ln -s /content/gdrive/My\\ Drive/ /mydrive\n",
        "\n",
        "!mkdir /mydrive/mask_rcnn\n",
        "\n",
        "!cd /mydrive/mask_rcnn\n",
        "\n",
        "!git clone https://github.com/alsombra/Mask_RCNN-TF2.git\n",
        "\n",
        "!cd /mydrive/mask_rcnn/Mask_RCNN-TF2/\n",
        "\n",
        "!pip install imgaug\n",
        "!pip install Cython\n",
        "!pip install pycocotools\n",
        "!pip install kaggle\n"
      ],
      "execution_count": 23,
      "outputs": [
        {
          "output_type": "stream",
          "text": [
            "/content/gdrive/My Drive/mask_rcnn/Mask_RCNN-TF2\n",
            "Drive already mounted at /content/gdrive; to attempt to forcibly remount, call drive.mount(\"/content/gdrive\", force_remount=True).\n",
            "ln: failed to create symbolic link '/mydrive/My Drive': File exists\n",
            "mkdir: cannot create directory ‘/mydrive/mask_rcnn’: File exists\n",
            "fatal: destination path 'Mask_RCNN-TF2' already exists and is not an empty directory.\n",
            "Requirement already satisfied: imgaug in /usr/local/lib/python3.7/dist-packages (0.2.9)\n",
            "Requirement already satisfied: imageio in /usr/local/lib/python3.7/dist-packages (from imgaug) (2.4.1)\n",
            "Requirement already satisfied: opencv-python in /usr/local/lib/python3.7/dist-packages (from imgaug) (4.1.2.30)\n",
            "Requirement already satisfied: scikit-image>=0.11.0 in /usr/local/lib/python3.7/dist-packages (from imgaug) (0.16.2)\n",
            "Requirement already satisfied: matplotlib in /usr/local/lib/python3.7/dist-packages (from imgaug) (3.2.2)\n",
            "Requirement already satisfied: numpy>=1.15.0 in /usr/local/lib/python3.7/dist-packages (from imgaug) (1.19.5)\n",
            "Requirement already satisfied: Pillow in /usr/local/lib/python3.7/dist-packages (from imgaug) (7.1.2)\n",
            "Requirement already satisfied: Shapely in /usr/local/lib/python3.7/dist-packages (from imgaug) (1.7.1)\n",
            "Requirement already satisfied: scipy in /usr/local/lib/python3.7/dist-packages (from imgaug) (1.4.1)\n",
            "Requirement already satisfied: six in /usr/local/lib/python3.7/dist-packages (from imgaug) (1.15.0)\n",
            "Requirement already satisfied: networkx>=2.0 in /usr/local/lib/python3.7/dist-packages (from scikit-image>=0.11.0->imgaug) (2.6.2)\n",
            "Requirement already satisfied: PyWavelets>=0.4.0 in /usr/local/lib/python3.7/dist-packages (from scikit-image>=0.11.0->imgaug) (1.1.1)\n",
            "Requirement already satisfied: pyparsing!=2.0.4,!=2.1.2,!=2.1.6,>=2.0.1 in /usr/local/lib/python3.7/dist-packages (from matplotlib->imgaug) (2.4.7)\n",
            "Requirement already satisfied: python-dateutil>=2.1 in /usr/local/lib/python3.7/dist-packages (from matplotlib->imgaug) (2.8.2)\n",
            "Requirement already satisfied: kiwisolver>=1.0.1 in /usr/local/lib/python3.7/dist-packages (from matplotlib->imgaug) (1.3.1)\n",
            "Requirement already satisfied: cycler>=0.10 in /usr/local/lib/python3.7/dist-packages (from matplotlib->imgaug) (0.10.0)\n",
            "Requirement already satisfied: Cython in /usr/local/lib/python3.7/dist-packages (0.29.24)\n",
            "Requirement already satisfied: pycocotools in /usr/local/lib/python3.7/dist-packages (2.0.2)\n",
            "Requirement already satisfied: setuptools>=18.0 in /usr/local/lib/python3.7/dist-packages (from pycocotools) (57.4.0)\n",
            "Requirement already satisfied: matplotlib>=2.1.0 in /usr/local/lib/python3.7/dist-packages (from pycocotools) (3.2.2)\n",
            "Requirement already satisfied: cython>=0.27.3 in /usr/local/lib/python3.7/dist-packages (from pycocotools) (0.29.24)\n",
            "Requirement already satisfied: pyparsing!=2.0.4,!=2.1.2,!=2.1.6,>=2.0.1 in /usr/local/lib/python3.7/dist-packages (from matplotlib>=2.1.0->pycocotools) (2.4.7)\n",
            "Requirement already satisfied: numpy>=1.11 in /usr/local/lib/python3.7/dist-packages (from matplotlib>=2.1.0->pycocotools) (1.19.5)\n",
            "Requirement already satisfied: kiwisolver>=1.0.1 in /usr/local/lib/python3.7/dist-packages (from matplotlib>=2.1.0->pycocotools) (1.3.1)\n",
            "Requirement already satisfied: python-dateutil>=2.1 in /usr/local/lib/python3.7/dist-packages (from matplotlib>=2.1.0->pycocotools) (2.8.2)\n",
            "Requirement already satisfied: cycler>=0.10 in /usr/local/lib/python3.7/dist-packages (from matplotlib>=2.1.0->pycocotools) (0.10.0)\n",
            "Requirement already satisfied: six in /usr/local/lib/python3.7/dist-packages (from cycler>=0.10->matplotlib>=2.1.0->pycocotools) (1.15.0)\n",
            "Requirement already satisfied: kaggle in /usr/local/lib/python3.7/dist-packages (1.5.12)\n",
            "Requirement already satisfied: six>=1.10 in /usr/local/lib/python3.7/dist-packages (from kaggle) (1.15.0)\n",
            "Requirement already satisfied: requests in /usr/local/lib/python3.7/dist-packages (from kaggle) (2.23.0)\n",
            "Requirement already satisfied: certifi in /usr/local/lib/python3.7/dist-packages (from kaggle) (2021.5.30)\n",
            "Requirement already satisfied: python-slugify in /usr/local/lib/python3.7/dist-packages (from kaggle) (5.0.2)\n",
            "Requirement already satisfied: tqdm in /usr/local/lib/python3.7/dist-packages (from kaggle) (4.62.0)\n",
            "Requirement already satisfied: python-dateutil in /usr/local/lib/python3.7/dist-packages (from kaggle) (2.8.2)\n",
            "Requirement already satisfied: urllib3 in /usr/local/lib/python3.7/dist-packages (from kaggle) (1.24.3)\n",
            "Requirement already satisfied: text-unidecode>=1.3 in /usr/local/lib/python3.7/dist-packages (from python-slugify->kaggle) (1.3)\n",
            "Requirement already satisfied: idna<3,>=2.5 in /usr/local/lib/python3.7/dist-packages (from requests->kaggle) (2.10)\n",
            "Requirement already satisfied: chardet<4,>=3.0.2 in /usr/local/lib/python3.7/dist-packages (from requests->kaggle) (3.0.4)\n"
          ],
          "name": "stdout"
        }
      ]
    },
    {
      "cell_type": "code",
      "metadata": {
        "colab": {
          "base_uri": "https://localhost:8080/"
        },
        "id": "fMg7oyySlqRF",
        "outputId": "70180240-0da1-4423-96a2-e262a88172a7"
      },
      "source": [
        "!pip install -r /content/gdrive/MyDrive/mask_rcnn/Mask_RCNN-TF2/requirements.txt\n",
        "\n",
        "!python /content/gdrive/MyDrive/mask_rcnn/Mask_RCNN-TF2/setup.py install\n",
        "\n",
        "import os #just another way to navegate through folders - using python\n",
        "os.chdir('/mydrive/mask_rcnn/Mask_RCNN-TF2/samples')"
      ],
      "execution_count": 22,
      "outputs": [
        {
          "output_type": "stream",
          "text": [
            "Requirement already satisfied: numpy in /usr/local/lib/python3.7/dist-packages (from -r /content/gdrive/MyDrive/mask_rcnn/Mask_RCNN-TF2/requirements.txt (line 1)) (1.19.5)\n",
            "Requirement already satisfied: scipy in /usr/local/lib/python3.7/dist-packages (from -r /content/gdrive/MyDrive/mask_rcnn/Mask_RCNN-TF2/requirements.txt (line 2)) (1.4.1)\n",
            "Requirement already satisfied: Pillow in /usr/local/lib/python3.7/dist-packages (from -r /content/gdrive/MyDrive/mask_rcnn/Mask_RCNN-TF2/requirements.txt (line 3)) (7.1.2)\n",
            "Requirement already satisfied: cython in /usr/local/lib/python3.7/dist-packages (from -r /content/gdrive/MyDrive/mask_rcnn/Mask_RCNN-TF2/requirements.txt (line 4)) (0.29.24)\n",
            "Requirement already satisfied: matplotlib in /usr/local/lib/python3.7/dist-packages (from -r /content/gdrive/MyDrive/mask_rcnn/Mask_RCNN-TF2/requirements.txt (line 5)) (3.2.2)\n",
            "Requirement already satisfied: scikit-image in /usr/local/lib/python3.7/dist-packages (from -r /content/gdrive/MyDrive/mask_rcnn/Mask_RCNN-TF2/requirements.txt (line 6)) (0.16.2)\n",
            "Requirement already satisfied: tensorflow>=2.0.0 in /usr/local/lib/python3.7/dist-packages (from -r /content/gdrive/MyDrive/mask_rcnn/Mask_RCNN-TF2/requirements.txt (line 7)) (2.5.0)\n",
            "Requirement already satisfied: opencv-python in /usr/local/lib/python3.7/dist-packages (from -r /content/gdrive/MyDrive/mask_rcnn/Mask_RCNN-TF2/requirements.txt (line 8)) (4.1.2.30)\n",
            "Requirement already satisfied: h5py in /usr/local/lib/python3.7/dist-packages (from -r /content/gdrive/MyDrive/mask_rcnn/Mask_RCNN-TF2/requirements.txt (line 9)) (3.1.0)\n",
            "Requirement already satisfied: imgaug in /usr/local/lib/python3.7/dist-packages (from -r /content/gdrive/MyDrive/mask_rcnn/Mask_RCNN-TF2/requirements.txt (line 10)) (0.2.9)\n",
            "Requirement already satisfied: IPython[all] in /usr/local/lib/python3.7/dist-packages (from -r /content/gdrive/MyDrive/mask_rcnn/Mask_RCNN-TF2/requirements.txt (line 11)) (5.5.0)\n",
            "Requirement already satisfied: typing-extensions~=3.7.4 in /usr/local/lib/python3.7/dist-packages (from tensorflow>=2.0.0->-r /content/gdrive/MyDrive/mask_rcnn/Mask_RCNN-TF2/requirements.txt (line 7)) (3.7.4.3)\n",
            "Requirement already satisfied: gast==0.4.0 in /usr/local/lib/python3.7/dist-packages (from tensorflow>=2.0.0->-r /content/gdrive/MyDrive/mask_rcnn/Mask_RCNN-TF2/requirements.txt (line 7)) (0.4.0)\n",
            "Requirement already satisfied: absl-py~=0.10 in /usr/local/lib/python3.7/dist-packages (from tensorflow>=2.0.0->-r /content/gdrive/MyDrive/mask_rcnn/Mask_RCNN-TF2/requirements.txt (line 7)) (0.12.0)\n",
            "Requirement already satisfied: tensorflow-estimator<2.6.0,>=2.5.0rc0 in /usr/local/lib/python3.7/dist-packages (from tensorflow>=2.0.0->-r /content/gdrive/MyDrive/mask_rcnn/Mask_RCNN-TF2/requirements.txt (line 7)) (2.5.0)\n",
            "Requirement already satisfied: keras-preprocessing~=1.1.2 in /usr/local/lib/python3.7/dist-packages (from tensorflow>=2.0.0->-r /content/gdrive/MyDrive/mask_rcnn/Mask_RCNN-TF2/requirements.txt (line 7)) (1.1.2)\n",
            "Requirement already satisfied: grpcio~=1.34.0 in /usr/local/lib/python3.7/dist-packages (from tensorflow>=2.0.0->-r /content/gdrive/MyDrive/mask_rcnn/Mask_RCNN-TF2/requirements.txt (line 7)) (1.34.1)\n",
            "Requirement already satisfied: six~=1.15.0 in /usr/local/lib/python3.7/dist-packages (from tensorflow>=2.0.0->-r /content/gdrive/MyDrive/mask_rcnn/Mask_RCNN-TF2/requirements.txt (line 7)) (1.15.0)\n",
            "Requirement already satisfied: protobuf>=3.9.2 in /usr/local/lib/python3.7/dist-packages (from tensorflow>=2.0.0->-r /content/gdrive/MyDrive/mask_rcnn/Mask_RCNN-TF2/requirements.txt (line 7)) (3.17.3)\n",
            "Requirement already satisfied: astunparse~=1.6.3 in /usr/local/lib/python3.7/dist-packages (from tensorflow>=2.0.0->-r /content/gdrive/MyDrive/mask_rcnn/Mask_RCNN-TF2/requirements.txt (line 7)) (1.6.3)\n",
            "Requirement already satisfied: flatbuffers~=1.12.0 in /usr/local/lib/python3.7/dist-packages (from tensorflow>=2.0.0->-r /content/gdrive/MyDrive/mask_rcnn/Mask_RCNN-TF2/requirements.txt (line 7)) (1.12)\n",
            "Requirement already satisfied: opt-einsum~=3.3.0 in /usr/local/lib/python3.7/dist-packages (from tensorflow>=2.0.0->-r /content/gdrive/MyDrive/mask_rcnn/Mask_RCNN-TF2/requirements.txt (line 7)) (3.3.0)\n",
            "Requirement already satisfied: google-pasta~=0.2 in /usr/local/lib/python3.7/dist-packages (from tensorflow>=2.0.0->-r /content/gdrive/MyDrive/mask_rcnn/Mask_RCNN-TF2/requirements.txt (line 7)) (0.2.0)\n",
            "Requirement already satisfied: keras-nightly~=2.5.0.dev in /usr/local/lib/python3.7/dist-packages (from tensorflow>=2.0.0->-r /content/gdrive/MyDrive/mask_rcnn/Mask_RCNN-TF2/requirements.txt (line 7)) (2.5.0.dev2021032900)\n",
            "Requirement already satisfied: tensorboard~=2.5 in /usr/local/lib/python3.7/dist-packages (from tensorflow>=2.0.0->-r /content/gdrive/MyDrive/mask_rcnn/Mask_RCNN-TF2/requirements.txt (line 7)) (2.5.0)\n",
            "Requirement already satisfied: wheel~=0.35 in /usr/local/lib/python3.7/dist-packages (from tensorflow>=2.0.0->-r /content/gdrive/MyDrive/mask_rcnn/Mask_RCNN-TF2/requirements.txt (line 7)) (0.37.0)\n",
            "Requirement already satisfied: termcolor~=1.1.0 in /usr/local/lib/python3.7/dist-packages (from tensorflow>=2.0.0->-r /content/gdrive/MyDrive/mask_rcnn/Mask_RCNN-TF2/requirements.txt (line 7)) (1.1.0)\n",
            "Requirement already satisfied: wrapt~=1.12.1 in /usr/local/lib/python3.7/dist-packages (from tensorflow>=2.0.0->-r /content/gdrive/MyDrive/mask_rcnn/Mask_RCNN-TF2/requirements.txt (line 7)) (1.12.1)\n",
            "Requirement already satisfied: cached-property in /usr/local/lib/python3.7/dist-packages (from h5py->-r /content/gdrive/MyDrive/mask_rcnn/Mask_RCNN-TF2/requirements.txt (line 9)) (1.5.2)\n",
            "Requirement already satisfied: requests<3,>=2.21.0 in /usr/local/lib/python3.7/dist-packages (from tensorboard~=2.5->tensorflow>=2.0.0->-r /content/gdrive/MyDrive/mask_rcnn/Mask_RCNN-TF2/requirements.txt (line 7)) (2.23.0)\n",
            "Requirement already satisfied: werkzeug>=0.11.15 in /usr/local/lib/python3.7/dist-packages (from tensorboard~=2.5->tensorflow>=2.0.0->-r /content/gdrive/MyDrive/mask_rcnn/Mask_RCNN-TF2/requirements.txt (line 7)) (1.0.1)\n",
            "Requirement already satisfied: tensorboard-data-server<0.7.0,>=0.6.0 in /usr/local/lib/python3.7/dist-packages (from tensorboard~=2.5->tensorflow>=2.0.0->-r /content/gdrive/MyDrive/mask_rcnn/Mask_RCNN-TF2/requirements.txt (line 7)) (0.6.1)\n",
            "Requirement already satisfied: google-auth-oauthlib<0.5,>=0.4.1 in /usr/local/lib/python3.7/dist-packages (from tensorboard~=2.5->tensorflow>=2.0.0->-r /content/gdrive/MyDrive/mask_rcnn/Mask_RCNN-TF2/requirements.txt (line 7)) (0.4.5)\n",
            "Requirement already satisfied: setuptools>=41.0.0 in /usr/local/lib/python3.7/dist-packages (from tensorboard~=2.5->tensorflow>=2.0.0->-r /content/gdrive/MyDrive/mask_rcnn/Mask_RCNN-TF2/requirements.txt (line 7)) (57.4.0)\n",
            "Requirement already satisfied: google-auth<2,>=1.6.3 in /usr/local/lib/python3.7/dist-packages (from tensorboard~=2.5->tensorflow>=2.0.0->-r /content/gdrive/MyDrive/mask_rcnn/Mask_RCNN-TF2/requirements.txt (line 7)) (1.34.0)\n",
            "Requirement already satisfied: markdown>=2.6.8 in /usr/local/lib/python3.7/dist-packages (from tensorboard~=2.5->tensorflow>=2.0.0->-r /content/gdrive/MyDrive/mask_rcnn/Mask_RCNN-TF2/requirements.txt (line 7)) (3.3.4)\n",
            "Requirement already satisfied: tensorboard-plugin-wit>=1.6.0 in /usr/local/lib/python3.7/dist-packages (from tensorboard~=2.5->tensorflow>=2.0.0->-r /content/gdrive/MyDrive/mask_rcnn/Mask_RCNN-TF2/requirements.txt (line 7)) (1.8.0)\n",
            "Requirement already satisfied: rsa<5,>=3.1.4 in /usr/local/lib/python3.7/dist-packages (from google-auth<2,>=1.6.3->tensorboard~=2.5->tensorflow>=2.0.0->-r /content/gdrive/MyDrive/mask_rcnn/Mask_RCNN-TF2/requirements.txt (line 7)) (4.7.2)\n",
            "Requirement already satisfied: cachetools<5.0,>=2.0.0 in /usr/local/lib/python3.7/dist-packages (from google-auth<2,>=1.6.3->tensorboard~=2.5->tensorflow>=2.0.0->-r /content/gdrive/MyDrive/mask_rcnn/Mask_RCNN-TF2/requirements.txt (line 7)) (4.2.2)\n",
            "Requirement already satisfied: pyasn1-modules>=0.2.1 in /usr/local/lib/python3.7/dist-packages (from google-auth<2,>=1.6.3->tensorboard~=2.5->tensorflow>=2.0.0->-r /content/gdrive/MyDrive/mask_rcnn/Mask_RCNN-TF2/requirements.txt (line 7)) (0.2.8)\n",
            "Requirement already satisfied: requests-oauthlib>=0.7.0 in /usr/local/lib/python3.7/dist-packages (from google-auth-oauthlib<0.5,>=0.4.1->tensorboard~=2.5->tensorflow>=2.0.0->-r /content/gdrive/MyDrive/mask_rcnn/Mask_RCNN-TF2/requirements.txt (line 7)) (1.3.0)\n",
            "Requirement already satisfied: importlib-metadata in /usr/local/lib/python3.7/dist-packages (from markdown>=2.6.8->tensorboard~=2.5->tensorflow>=2.0.0->-r /content/gdrive/MyDrive/mask_rcnn/Mask_RCNN-TF2/requirements.txt (line 7)) (4.6.3)\n",
            "Requirement already satisfied: pyasn1<0.5.0,>=0.4.6 in /usr/local/lib/python3.7/dist-packages (from pyasn1-modules>=0.2.1->google-auth<2,>=1.6.3->tensorboard~=2.5->tensorflow>=2.0.0->-r /content/gdrive/MyDrive/mask_rcnn/Mask_RCNN-TF2/requirements.txt (line 7)) (0.4.8)\n",
            "Requirement already satisfied: idna<3,>=2.5 in /usr/local/lib/python3.7/dist-packages (from requests<3,>=2.21.0->tensorboard~=2.5->tensorflow>=2.0.0->-r /content/gdrive/MyDrive/mask_rcnn/Mask_RCNN-TF2/requirements.txt (line 7)) (2.10)\n",
            "Requirement already satisfied: certifi>=2017.4.17 in /usr/local/lib/python3.7/dist-packages (from requests<3,>=2.21.0->tensorboard~=2.5->tensorflow>=2.0.0->-r /content/gdrive/MyDrive/mask_rcnn/Mask_RCNN-TF2/requirements.txt (line 7)) (2021.5.30)\n",
            "Requirement already satisfied: urllib3!=1.25.0,!=1.25.1,<1.26,>=1.21.1 in /usr/local/lib/python3.7/dist-packages (from requests<3,>=2.21.0->tensorboard~=2.5->tensorflow>=2.0.0->-r /content/gdrive/MyDrive/mask_rcnn/Mask_RCNN-TF2/requirements.txt (line 7)) (1.24.3)\n",
            "Requirement already satisfied: chardet<4,>=3.0.2 in /usr/local/lib/python3.7/dist-packages (from requests<3,>=2.21.0->tensorboard~=2.5->tensorflow>=2.0.0->-r /content/gdrive/MyDrive/mask_rcnn/Mask_RCNN-TF2/requirements.txt (line 7)) (3.0.4)\n",
            "Requirement already satisfied: oauthlib>=3.0.0 in /usr/local/lib/python3.7/dist-packages (from requests-oauthlib>=0.7.0->google-auth-oauthlib<0.5,>=0.4.1->tensorboard~=2.5->tensorflow>=2.0.0->-r /content/gdrive/MyDrive/mask_rcnn/Mask_RCNN-TF2/requirements.txt (line 7)) (3.1.1)\n",
            "Requirement already satisfied: pyparsing!=2.0.4,!=2.1.2,!=2.1.6,>=2.0.1 in /usr/local/lib/python3.7/dist-packages (from matplotlib->-r /content/gdrive/MyDrive/mask_rcnn/Mask_RCNN-TF2/requirements.txt (line 5)) (2.4.7)\n",
            "Requirement already satisfied: python-dateutil>=2.1 in /usr/local/lib/python3.7/dist-packages (from matplotlib->-r /content/gdrive/MyDrive/mask_rcnn/Mask_RCNN-TF2/requirements.txt (line 5)) (2.8.2)\n",
            "Requirement already satisfied: kiwisolver>=1.0.1 in /usr/local/lib/python3.7/dist-packages (from matplotlib->-r /content/gdrive/MyDrive/mask_rcnn/Mask_RCNN-TF2/requirements.txt (line 5)) (1.3.1)\n",
            "Requirement already satisfied: cycler>=0.10 in /usr/local/lib/python3.7/dist-packages (from matplotlib->-r /content/gdrive/MyDrive/mask_rcnn/Mask_RCNN-TF2/requirements.txt (line 5)) (0.10.0)\n",
            "Requirement already satisfied: PyWavelets>=0.4.0 in /usr/local/lib/python3.7/dist-packages (from scikit-image->-r /content/gdrive/MyDrive/mask_rcnn/Mask_RCNN-TF2/requirements.txt (line 6)) (1.1.1)\n",
            "Requirement already satisfied: imageio>=2.3.0 in /usr/local/lib/python3.7/dist-packages (from scikit-image->-r /content/gdrive/MyDrive/mask_rcnn/Mask_RCNN-TF2/requirements.txt (line 6)) (2.4.1)\n",
            "Requirement already satisfied: networkx>=2.0 in /usr/local/lib/python3.7/dist-packages (from scikit-image->-r /content/gdrive/MyDrive/mask_rcnn/Mask_RCNN-TF2/requirements.txt (line 6)) (2.6.2)\n",
            "Requirement already satisfied: Shapely in /usr/local/lib/python3.7/dist-packages (from imgaug->-r /content/gdrive/MyDrive/mask_rcnn/Mask_RCNN-TF2/requirements.txt (line 10)) (1.7.1)\n",
            "Requirement already satisfied: zipp>=0.5 in /usr/local/lib/python3.7/dist-packages (from importlib-metadata->markdown>=2.6.8->tensorboard~=2.5->tensorflow>=2.0.0->-r /content/gdrive/MyDrive/mask_rcnn/Mask_RCNN-TF2/requirements.txt (line 7)) (3.5.0)\n",
            "Requirement already satisfied: pygments in /usr/local/lib/python3.7/dist-packages (from IPython[all]->-r /content/gdrive/MyDrive/mask_rcnn/Mask_RCNN-TF2/requirements.txt (line 11)) (2.6.1)\n",
            "Requirement already satisfied: simplegeneric>0.8 in /usr/local/lib/python3.7/dist-packages (from IPython[all]->-r /content/gdrive/MyDrive/mask_rcnn/Mask_RCNN-TF2/requirements.txt (line 11)) (0.8.1)\n",
            "Requirement already satisfied: prompt-toolkit<2.0.0,>=1.0.4 in /usr/local/lib/python3.7/dist-packages (from IPython[all]->-r /content/gdrive/MyDrive/mask_rcnn/Mask_RCNN-TF2/requirements.txt (line 11)) (1.0.18)\n",
            "Requirement already satisfied: traitlets>=4.2 in /usr/local/lib/python3.7/dist-packages (from IPython[all]->-r /content/gdrive/MyDrive/mask_rcnn/Mask_RCNN-TF2/requirements.txt (line 11)) (5.0.5)\n",
            "Requirement already satisfied: pickleshare in /usr/local/lib/python3.7/dist-packages (from IPython[all]->-r /content/gdrive/MyDrive/mask_rcnn/Mask_RCNN-TF2/requirements.txt (line 11)) (0.7.5)\n",
            "Requirement already satisfied: decorator in /usr/local/lib/python3.7/dist-packages (from IPython[all]->-r /content/gdrive/MyDrive/mask_rcnn/Mask_RCNN-TF2/requirements.txt (line 11)) (4.4.2)\n",
            "Requirement already satisfied: pexpect in /usr/local/lib/python3.7/dist-packages (from IPython[all]->-r /content/gdrive/MyDrive/mask_rcnn/Mask_RCNN-TF2/requirements.txt (line 11)) (4.8.0)\n",
            "Requirement already satisfied: testpath in /usr/local/lib/python3.7/dist-packages (from IPython[all]->-r /content/gdrive/MyDrive/mask_rcnn/Mask_RCNN-TF2/requirements.txt (line 11)) (0.5.0)\n",
            "Requirement already satisfied: notebook in /usr/local/lib/python3.7/dist-packages (from IPython[all]->-r /content/gdrive/MyDrive/mask_rcnn/Mask_RCNN-TF2/requirements.txt (line 11)) (5.3.1)\n",
            "Requirement already satisfied: ipykernel in /usr/local/lib/python3.7/dist-packages (from IPython[all]->-r /content/gdrive/MyDrive/mask_rcnn/Mask_RCNN-TF2/requirements.txt (line 11)) (4.10.1)\n",
            "Requirement already satisfied: ipywidgets in /usr/local/lib/python3.7/dist-packages (from IPython[all]->-r /content/gdrive/MyDrive/mask_rcnn/Mask_RCNN-TF2/requirements.txt (line 11)) (7.6.3)\n",
            "Requirement already satisfied: Sphinx>=1.3 in /usr/local/lib/python3.7/dist-packages (from IPython[all]->-r /content/gdrive/MyDrive/mask_rcnn/Mask_RCNN-TF2/requirements.txt (line 11)) (1.8.5)\n",
            "Requirement already satisfied: ipyparallel in /usr/local/lib/python3.7/dist-packages (from IPython[all]->-r /content/gdrive/MyDrive/mask_rcnn/Mask_RCNN-TF2/requirements.txt (line 11)) (6.3.0)\n",
            "Requirement already satisfied: nbformat in /usr/local/lib/python3.7/dist-packages (from IPython[all]->-r /content/gdrive/MyDrive/mask_rcnn/Mask_RCNN-TF2/requirements.txt (line 11)) (5.1.3)\n",
            "Requirement already satisfied: nose>=0.10.1 in /usr/local/lib/python3.7/dist-packages (from IPython[all]->-r /content/gdrive/MyDrive/mask_rcnn/Mask_RCNN-TF2/requirements.txt (line 11)) (1.3.7)\n",
            "Requirement already satisfied: nbconvert in /usr/local/lib/python3.7/dist-packages (from IPython[all]->-r /content/gdrive/MyDrive/mask_rcnn/Mask_RCNN-TF2/requirements.txt (line 11)) (5.6.1)\n",
            "Requirement already satisfied: qtconsole in /usr/local/lib/python3.7/dist-packages (from IPython[all]->-r /content/gdrive/MyDrive/mask_rcnn/Mask_RCNN-TF2/requirements.txt (line 11)) (5.1.1)\n",
            "Requirement already satisfied: wcwidth in /usr/local/lib/python3.7/dist-packages (from prompt-toolkit<2.0.0,>=1.0.4->IPython[all]->-r /content/gdrive/MyDrive/mask_rcnn/Mask_RCNN-TF2/requirements.txt (line 11)) (0.2.5)\n",
            "Requirement already satisfied: alabaster<0.8,>=0.7 in /usr/local/lib/python3.7/dist-packages (from Sphinx>=1.3->IPython[all]->-r /content/gdrive/MyDrive/mask_rcnn/Mask_RCNN-TF2/requirements.txt (line 11)) (0.7.12)\n",
            "Requirement already satisfied: snowballstemmer>=1.1 in /usr/local/lib/python3.7/dist-packages (from Sphinx>=1.3->IPython[all]->-r /content/gdrive/MyDrive/mask_rcnn/Mask_RCNN-TF2/requirements.txt (line 11)) (2.1.0)\n",
            "Requirement already satisfied: docutils>=0.11 in /usr/local/lib/python3.7/dist-packages (from Sphinx>=1.3->IPython[all]->-r /content/gdrive/MyDrive/mask_rcnn/Mask_RCNN-TF2/requirements.txt (line 11)) (0.17.1)\n",
            "Requirement already satisfied: babel!=2.0,>=1.3 in /usr/local/lib/python3.7/dist-packages (from Sphinx>=1.3->IPython[all]->-r /content/gdrive/MyDrive/mask_rcnn/Mask_RCNN-TF2/requirements.txt (line 11)) (2.9.1)\n",
            "Requirement already satisfied: Jinja2>=2.3 in /usr/local/lib/python3.7/dist-packages (from Sphinx>=1.3->IPython[all]->-r /content/gdrive/MyDrive/mask_rcnn/Mask_RCNN-TF2/requirements.txt (line 11)) (2.11.3)\n",
            "Requirement already satisfied: imagesize in /usr/local/lib/python3.7/dist-packages (from Sphinx>=1.3->IPython[all]->-r /content/gdrive/MyDrive/mask_rcnn/Mask_RCNN-TF2/requirements.txt (line 11)) (1.2.0)\n",
            "Requirement already satisfied: sphinxcontrib-websupport in /usr/local/lib/python3.7/dist-packages (from Sphinx>=1.3->IPython[all]->-r /content/gdrive/MyDrive/mask_rcnn/Mask_RCNN-TF2/requirements.txt (line 11)) (1.2.4)\n",
            "Requirement already satisfied: packaging in /usr/local/lib/python3.7/dist-packages (from Sphinx>=1.3->IPython[all]->-r /content/gdrive/MyDrive/mask_rcnn/Mask_RCNN-TF2/requirements.txt (line 11)) (21.0)\n",
            "Requirement already satisfied: pytz>=2015.7 in /usr/local/lib/python3.7/dist-packages (from babel!=2.0,>=1.3->Sphinx>=1.3->IPython[all]->-r /content/gdrive/MyDrive/mask_rcnn/Mask_RCNN-TF2/requirements.txt (line 11)) (2018.9)\n",
            "Requirement already satisfied: MarkupSafe>=0.23 in /usr/local/lib/python3.7/dist-packages (from Jinja2>=2.3->Sphinx>=1.3->IPython[all]->-r /content/gdrive/MyDrive/mask_rcnn/Mask_RCNN-TF2/requirements.txt (line 11)) (2.0.1)\n",
            "Requirement already satisfied: ipython-genutils in /usr/local/lib/python3.7/dist-packages (from traitlets>=4.2->IPython[all]->-r /content/gdrive/MyDrive/mask_rcnn/Mask_RCNN-TF2/requirements.txt (line 11)) (0.2.0)\n",
            "Requirement already satisfied: tornado>=4.0 in /usr/local/lib/python3.7/dist-packages (from ipykernel->IPython[all]->-r /content/gdrive/MyDrive/mask_rcnn/Mask_RCNN-TF2/requirements.txt (line 11)) (5.1.1)\n",
            "Requirement already satisfied: jupyter-client in /usr/local/lib/python3.7/dist-packages (from ipykernel->IPython[all]->-r /content/gdrive/MyDrive/mask_rcnn/Mask_RCNN-TF2/requirements.txt (line 11)) (5.3.5)\n",
            "Requirement already satisfied: pyzmq>=13 in /usr/local/lib/python3.7/dist-packages (from ipyparallel->IPython[all]->-r /content/gdrive/MyDrive/mask_rcnn/Mask_RCNN-TF2/requirements.txt (line 11)) (22.2.1)\n",
            "Requirement already satisfied: jupyterlab-widgets>=1.0.0 in /usr/local/lib/python3.7/dist-packages (from ipywidgets->IPython[all]->-r /content/gdrive/MyDrive/mask_rcnn/Mask_RCNN-TF2/requirements.txt (line 11)) (1.0.0)\n",
            "Requirement already satisfied: widgetsnbextension~=3.5.0 in /usr/local/lib/python3.7/dist-packages (from ipywidgets->IPython[all]->-r /content/gdrive/MyDrive/mask_rcnn/Mask_RCNN-TF2/requirements.txt (line 11)) (3.5.1)\n",
            "Requirement already satisfied: jsonschema!=2.5.0,>=2.4 in /usr/local/lib/python3.7/dist-packages (from nbformat->IPython[all]->-r /content/gdrive/MyDrive/mask_rcnn/Mask_RCNN-TF2/requirements.txt (line 11)) (2.6.0)\n",
            "Requirement already satisfied: jupyter-core in /usr/local/lib/python3.7/dist-packages (from nbformat->IPython[all]->-r /content/gdrive/MyDrive/mask_rcnn/Mask_RCNN-TF2/requirements.txt (line 11)) (4.7.1)\n",
            "Requirement already satisfied: terminado>=0.8.1 in /usr/local/lib/python3.7/dist-packages (from notebook->IPython[all]->-r /content/gdrive/MyDrive/mask_rcnn/Mask_RCNN-TF2/requirements.txt (line 11)) (0.10.1)\n",
            "Requirement already satisfied: Send2Trash in /usr/local/lib/python3.7/dist-packages (from notebook->IPython[all]->-r /content/gdrive/MyDrive/mask_rcnn/Mask_RCNN-TF2/requirements.txt (line 11)) (1.8.0)\n",
            "Requirement already satisfied: ptyprocess in /usr/local/lib/python3.7/dist-packages (from terminado>=0.8.1->notebook->IPython[all]->-r /content/gdrive/MyDrive/mask_rcnn/Mask_RCNN-TF2/requirements.txt (line 11)) (0.7.0)\n",
            "Requirement already satisfied: mistune<2,>=0.8.1 in /usr/local/lib/python3.7/dist-packages (from nbconvert->IPython[all]->-r /content/gdrive/MyDrive/mask_rcnn/Mask_RCNN-TF2/requirements.txt (line 11)) (0.8.4)\n",
            "Requirement already satisfied: pandocfilters>=1.4.1 in /usr/local/lib/python3.7/dist-packages (from nbconvert->IPython[all]->-r /content/gdrive/MyDrive/mask_rcnn/Mask_RCNN-TF2/requirements.txt (line 11)) (1.4.3)\n",
            "Requirement already satisfied: defusedxml in /usr/local/lib/python3.7/dist-packages (from nbconvert->IPython[all]->-r /content/gdrive/MyDrive/mask_rcnn/Mask_RCNN-TF2/requirements.txt (line 11)) (0.7.1)\n",
            "Requirement already satisfied: entrypoints>=0.2.2 in /usr/local/lib/python3.7/dist-packages (from nbconvert->IPython[all]->-r /content/gdrive/MyDrive/mask_rcnn/Mask_RCNN-TF2/requirements.txt (line 11)) (0.3)\n",
            "Requirement already satisfied: bleach in /usr/local/lib/python3.7/dist-packages (from nbconvert->IPython[all]->-r /content/gdrive/MyDrive/mask_rcnn/Mask_RCNN-TF2/requirements.txt (line 11)) (4.0.0)\n",
            "Requirement already satisfied: webencodings in /usr/local/lib/python3.7/dist-packages (from bleach->nbconvert->IPython[all]->-r /content/gdrive/MyDrive/mask_rcnn/Mask_RCNN-TF2/requirements.txt (line 11)) (0.5.1)\n",
            "Requirement already satisfied: qtpy in /usr/local/lib/python3.7/dist-packages (from qtconsole->IPython[all]->-r /content/gdrive/MyDrive/mask_rcnn/Mask_RCNN-TF2/requirements.txt (line 11)) (1.9.0)\n",
            "Requirement already satisfied: sphinxcontrib-serializinghtml in /usr/local/lib/python3.7/dist-packages (from sphinxcontrib-websupport->Sphinx>=1.3->IPython[all]->-r /content/gdrive/MyDrive/mask_rcnn/Mask_RCNN-TF2/requirements.txt (line 11)) (1.1.5)\n",
            "WARNING:root:Fail load requirements file, so using default ones.\n",
            "running install\n",
            "running bdist_egg\n",
            "running egg_info\n",
            "writing mask_rcnn.egg-info/PKG-INFO\n",
            "writing dependency_links to mask_rcnn.egg-info/dependency_links.txt\n",
            "writing top-level names to mask_rcnn.egg-info/top_level.txt\n",
            "error: package directory 'mrcnn' does not exist\n"
          ],
          "name": "stdout"
        }
      ]
    },
    {
      "cell_type": "code",
      "metadata": {
        "colab": {
          "base_uri": "https://localhost:8080/"
        },
        "id": "C2FObGk1gqYy",
        "outputId": "8db55e77-90e3-4038-e05a-423377af2103"
      },
      "source": [
        "!python /content/gdrive/MyDrive/mask_rcnn/Mask_RCNN-TF2/setup.py install\n",
        "#if the above one does not work, run the google drive kernel again and run this\n",
        "#or try running the \"testing mask rcnn\" colab file"
      ],
      "execution_count": 28,
      "outputs": [
        {
          "output_type": "stream",
          "text": [
            "WARNING:root:Fail load requirements file, so using default ones.\n",
            "/usr/local/lib/python3.7/dist-packages/setuptools/dist.py:700: UserWarning: Usage of dash-separated 'description-file' will not be supported in future versions. Please use the underscore name 'description_file' instead\n",
            "  % (opt, underscore_opt))\n",
            "/usr/local/lib/python3.7/dist-packages/setuptools/dist.py:700: UserWarning: Usage of dash-separated 'license-file' will not be supported in future versions. Please use the underscore name 'license_file' instead\n",
            "  % (opt, underscore_opt))\n",
            "/usr/local/lib/python3.7/dist-packages/setuptools/dist.py:700: UserWarning: Usage of dash-separated 'requirements-file' will not be supported in future versions. Please use the underscore name 'requirements_file' instead\n",
            "  % (opt, underscore_opt))\n",
            "running install\n",
            "running bdist_egg\n",
            "running egg_info\n",
            "writing mask_rcnn.egg-info/PKG-INFO\n",
            "writing dependency_links to mask_rcnn.egg-info/dependency_links.txt\n",
            "writing top-level names to mask_rcnn.egg-info/top_level.txt\n",
            "reading manifest template 'MANIFEST.in'\n",
            "adding license file 'LICENSE'\n",
            "writing manifest file 'mask_rcnn.egg-info/SOURCES.txt'\n",
            "installing library code to build/bdist.linux-x86_64/egg\n",
            "running install_lib\n",
            "running build_py\n",
            "copying mrcnn/model.py -> build/lib/mrcnn\n",
            "creating build/bdist.linux-x86_64/egg\n",
            "creating build/bdist.linux-x86_64/egg/mrcnn\n",
            "copying build/lib/mrcnn/config.py -> build/bdist.linux-x86_64/egg/mrcnn\n",
            "copying build/lib/mrcnn/visualize.py -> build/bdist.linux-x86_64/egg/mrcnn\n",
            "copying build/lib/mrcnn/parallel_model.py -> build/bdist.linux-x86_64/egg/mrcnn\n",
            "copying build/lib/mrcnn/utils.py -> build/bdist.linux-x86_64/egg/mrcnn\n",
            "copying build/lib/mrcnn/__init__.py -> build/bdist.linux-x86_64/egg/mrcnn\n",
            "copying build/lib/mrcnn/model.py -> build/bdist.linux-x86_64/egg/mrcnn\n",
            "byte-compiling build/bdist.linux-x86_64/egg/mrcnn/config.py to config.cpython-37.pyc\n",
            "byte-compiling build/bdist.linux-x86_64/egg/mrcnn/visualize.py to visualize.cpython-37.pyc\n",
            "byte-compiling build/bdist.linux-x86_64/egg/mrcnn/parallel_model.py to parallel_model.cpython-37.pyc\n",
            "byte-compiling build/bdist.linux-x86_64/egg/mrcnn/utils.py to utils.cpython-37.pyc\n",
            "byte-compiling build/bdist.linux-x86_64/egg/mrcnn/__init__.py to __init__.cpython-37.pyc\n",
            "byte-compiling build/bdist.linux-x86_64/egg/mrcnn/model.py to model.cpython-37.pyc\n",
            "creating build/bdist.linux-x86_64/egg/EGG-INFO\n",
            "copying mask_rcnn.egg-info/PKG-INFO -> build/bdist.linux-x86_64/egg/EGG-INFO\n",
            "copying mask_rcnn.egg-info/SOURCES.txt -> build/bdist.linux-x86_64/egg/EGG-INFO\n",
            "copying mask_rcnn.egg-info/dependency_links.txt -> build/bdist.linux-x86_64/egg/EGG-INFO\n",
            "copying mask_rcnn.egg-info/top_level.txt -> build/bdist.linux-x86_64/egg/EGG-INFO\n",
            "zip_safe flag not set; analyzing archive contents...\n",
            "creating 'dist/mask_rcnn-2.1-py3.7.egg' and adding 'build/bdist.linux-x86_64/egg' to it\n",
            "removing 'build/bdist.linux-x86_64/egg' (and everything under it)\n",
            "Processing mask_rcnn-2.1-py3.7.egg\n",
            "Removing /usr/local/lib/python3.7/dist-packages/mask_rcnn-2.1-py3.7.egg\n",
            "Copying mask_rcnn-2.1-py3.7.egg to /usr/local/lib/python3.7/dist-packages\n",
            "mask-rcnn 2.1 is already the active version in easy-install.pth\n",
            "\n",
            "Installed /usr/local/lib/python3.7/dist-packages/mask_rcnn-2.1-py3.7.egg\n",
            "Processing dependencies for mask-rcnn==2.1\n",
            "Finished processing dependencies for mask-rcnn==2.1\n"
          ],
          "name": "stdout"
        }
      ]
    },
    {
      "cell_type": "code",
      "metadata": {
        "colab": {
          "base_uri": "https://localhost:8080/"
        },
        "id": "yHn0y4JEh2cq",
        "outputId": "32575d0a-f81e-4e4b-e481-004ff69d4ddb"
      },
      "source": [
        "!rm -rf /content/Methane-detection-from-hyperspectral-imagery/single_detector/data/.ipynb_checkpoints\n",
        "!/content/Methane-detection-from-hyperspectral-imagery/single_detector/data_generator.sh '/content/Methane-detection-from-hyperspectral-imagery/single_detector/data'\n",
        "#will only work if mrcnn is correctly installed, test via the kernel above"
      ],
      "execution_count": 26,
      "outputs": [
        {
          "output_type": "stream",
          "text": [
            "/content/Methane-detection-from-hyperspectral-imagery/single_detector/data_generator.sh: line 4: cd: ./annotation_tool: No such file or directory\n",
            "/content/gdrive/My Drive/mask_rcnn/Mask_RCNN-TF2\n",
            "Running mask_tiling.py ..\n",
            "/content/gdrive/My Drive/mask_rcnn/Mask_RCNN-TF2\n",
            "/content/Methane-detection-from-hyperspectral-imagery/single_detector/data/\n",
            "['ang20150419t161445_rdn_v1f']\n",
            "Finished mask_tilling\n",
            "Running json_creator.py ..\n",
            "['ang20150419t161445_rdn_v1f']\n",
            "ang20150419t161445_rdn_v1f\n",
            "Finished creating annotation file\n",
            "Running train_data_generator.py ..\n",
            "['ang20150419t161445_rdn_v1f']\n",
            "tcmalloc: large alloc 60984320000 bytes == 0x56187a562000 @  0x7ff6d7c78001 0x7ff6cc27b54f 0x7ff6cc2cbb58 0x7ff6cc2cfb17 0x7ff6cc36e203 0x56187868d010 0x56187868cda0 0x5618787012f9 0x5618786fbc35 0x5618786fb933 0x5618787c5402 0x5618787c577d 0x5618787c5626 0x56187879d313 0x56187879cfbc 0x7ff6d6a60bf7 0x56187879ce9a\n",
            "/content/Methane-detection-from-hyperspectral-imagery/single_detector/data_generator.sh: line 16:  1045 Killed                  python /content/Methane-detection-from-hyperspectral-imagery/single_detector/annotation_tool/train_data_generator.py $1\n",
            "Finished generating data for training\n",
            "/content/gdrive/My Drive/mask_rcnn\n",
            "Now cd to src/custom-mask-rcnn-detector\n",
            "Run python detector.py --mode train\n",
            "For more information open detector.py file and read about file usage\n"
          ],
          "name": "stdout"
        }
      ]
    },
    {
      "cell_type": "code",
      "metadata": {
        "colab": {
          "base_uri": "https://localhost:8080/"
        },
        "id": "O83iohnOtbkc",
        "outputId": "4cd0b5dd-a362-4e16-98b7-682ae2082307"
      },
      "source": [
        "%tensorflow_version 1.x\n"
      ],
      "execution_count": 39,
      "outputs": [
        {
          "output_type": "stream",
          "text": [
            "TensorFlow 1.x selected.\n"
          ],
          "name": "stdout"
        }
      ]
    },
    {
      "cell_type": "code",
      "metadata": {
        "colab": {
          "base_uri": "https://localhost:8080/",
          "height": 1000
        },
        "id": "NhuOzlp_mYk2",
        "outputId": "a67bef71-a947-4400-ac14-4683d06e1c1a"
      },
      "source": [
        "!python /content/Methane-detection-from-hyperspectral-imagery/single_detector/src/custom-mask-rcnn-detector/detector.py --mode train\n",
        "\n",
        "#at /usr/local/lib/python3.7/dist-packages/mrcnn/model.py change to the following lines:\n",
        "'''\n",
        "import keras \n",
        "import keras.backend as K\n",
        "import keras.layers as KL\n",
        "import keras.engine.topology as KE\n",
        "import keras.models as KM\n",
        "import keras.utils as KU\n",
        "'''"
      ],
      "execution_count": 40,
      "outputs": [
        {
          "output_type": "stream",
          "text": [
            "Using TensorFlow backend.\n",
            "seleted_images []\n",
            "annot_names ['ang20150419t161445_cmf_v1f_img_img_radiance_10_0.npy', 'ang20150419t161445_cmf_v1f_img_img_radiance_20_0.npy', 'ang20150419t161445_cmf_v1f_img_img_radiance_21_0.npy', 'ang20150419t161445_cmf_v1f_img_img_radiance_36_0.npy', 'ang20150419t161445_cmf_v1f_img_img_radiance_36_1.npy', 'ang20150419t161445_cmf_v1f_img_img_radiance_37_0.npy', 'ang20150419t161445_cmf_v1f_img_img_radiance_37_1.npy', 'ang20150419t161445_cmf_v1f_img_img_radiance_5_0.npy', 'ang20150419t161445_cmf_v1f_img_img_radiance_6_0.npy', 'ang20150419t161445_cmf_v1f_img_img_radiance_9_0.npy']\n",
            "num of annot 10 num of images 0\n",
            "\n",
            "Configurations:\n",
            "BACKBONE                       resnet101\n",
            "BACKBONE_STRIDES               [4, 8, 16, 32, 64]\n",
            "BATCH_SIZE                     1\n",
            "BBOX_STD_DEV                   [0.1 0.1 0.2 0.2]\n",
            "COMPUTE_BACKBONE_SHAPE         None\n",
            "DETECTION_MAX_INSTANCES        100\n",
            "DETECTION_MIN_CONFIDENCE       0.7\n",
            "DETECTION_NMS_THRESHOLD        0.3\n",
            "FPN_CLASSIF_FC_LAYERS_SIZE     1024\n",
            "GPU_COUNT                      1\n",
            "GRADIENT_CLIP_NORM             5.0\n",
            "IMAGES_PER_GPU                 1\n",
            "IMAGE_MAX_DIM                  1024\n",
            "IMAGE_META_SIZE                14\n",
            "IMAGE_MIN_DIM                  800\n",
            "IMAGE_MIN_SCALE                0\n",
            "IMAGE_RESIZE_MODE              square\n",
            "IMAGE_SHAPE                    [1024 1024    3]\n",
            "LEARNING_MOMENTUM              0.9\n",
            "LEARNING_RATE                  0.001\n",
            "LOSS_WEIGHTS                   {'rpn_class_loss': 1.0, 'rpn_bbox_loss': 1.0, 'mrcnn_class_loss': 1.0, 'mrcnn_bbox_loss': 1.0, 'mrcnn_mask_loss': 1.0}\n",
            "MASK_POOL_SIZE                 14\n",
            "MASK_SHAPE                     [28, 28]\n",
            "MAX_GT_INSTANCES               100\n",
            "MEAN_PIXEL                     [123.7 116.8 103.9]\n",
            "MINI_MASK_SHAPE                (56, 56)\n",
            "NAME                           point_source\n",
            "NUM_CLASSES                    2\n",
            "POOL_SIZE                      7\n",
            "POST_NMS_ROIS_INFERENCE        1000\n",
            "POST_NMS_ROIS_TRAINING         2000\n",
            "ROI_POSITIVE_RATIO             0.33\n",
            "RPN_ANCHOR_RATIOS              [0.5, 1, 2]\n",
            "RPN_ANCHOR_SCALES              (32, 64, 128, 256, 512)\n",
            "RPN_ANCHOR_STRIDE              1\n",
            "RPN_BBOX_STD_DEV               [0.1 0.1 0.2 0.2]\n",
            "RPN_NMS_THRESHOLD              0.7\n",
            "RPN_TRAIN_ANCHORS_PER_IMAGE    256\n",
            "STEPS_PER_EPOCH                0\n",
            "TOP_DOWN_PYRAMID_SIZE          256\n",
            "TRAIN_BN                       False\n",
            "TRAIN_ROIS_PER_IMAGE           200\n",
            "USE_MINI_MASK                  True\n",
            "USE_RPN_ROIS                   True\n",
            "VALIDATION_STEPS               50\n",
            "WEIGHT_DECAY                   0.0001\n",
            "\n",
            "\n",
            "WARNING:tensorflow:From /tensorflow-1.15.2/python3.7/tensorflow_core/python/ops/resource_variable_ops.py:1630: calling BaseResourceVariable.__init__ (from tensorflow.python.ops.resource_variable_ops) with constraint is deprecated and will be removed in a future version.\n",
            "Instructions for updating:\n",
            "If using Keras pass *_constraint arguments to layers.\n",
            "\u001b[32m2021-08-17 01:24:41\u001b[0m \u001b[35mcf0e1bb592d2\u001b[0m \u001b[34mtensorflow[1510]\u001b[0m \u001b[1;30mWARNING\u001b[0m \u001b[33mFrom /tensorflow-1.15.2/python3.7/tensorflow_core/python/ops/resource_variable_ops.py:1630: calling BaseResourceVariable.__init__ (from tensorflow.python.ops.resource_variable_ops) with constraint is deprecated and will be removed in a future version.\n",
            "Instructions for updating:\n",
            "If using Keras pass *_constraint arguments to layers.\u001b[0m\n",
            "WARNING:tensorflow:From /tensorflow-1.15.2/python3.7/keras/backend/tensorflow_backend.py:4070: The name tf.nn.max_pool is deprecated. Please use tf.nn.max_pool2d instead.\n",
            "\n",
            "\u001b[32m2021-08-17 01:24:41\u001b[0m \u001b[35mcf0e1bb592d2\u001b[0m \u001b[34mtensorflow[1510]\u001b[0m \u001b[1;30mWARNING\u001b[0m \u001b[33mFrom /tensorflow-1.15.2/python3.7/keras/backend/tensorflow_backend.py:4070: The name tf.nn.max_pool is deprecated. Please use tf.nn.max_pool2d instead.\n",
            "\u001b[0m\n",
            "WARNING:tensorflow:From /tensorflow-1.15.2/python3.7/tensorflow_core/python/ops/array_ops.py:1475: where (from tensorflow.python.ops.array_ops) is deprecated and will be removed in a future version.\n",
            "Instructions for updating:\n",
            "Use tf.where in 2.0, which has the same broadcast rule as np.where\n",
            "\u001b[32m2021-08-17 01:24:45\u001b[0m \u001b[35mcf0e1bb592d2\u001b[0m \u001b[34mtensorflow[1510]\u001b[0m \u001b[1;30mWARNING\u001b[0m \u001b[33mFrom /tensorflow-1.15.2/python3.7/tensorflow_core/python/ops/array_ops.py:1475: where (from tensorflow.python.ops.array_ops) is deprecated and will be removed in a future version.\n",
            "Instructions for updating:\n",
            "Use tf.where in 2.0, which has the same broadcast rule as np.where\u001b[0m\n",
            "WARNING:tensorflow:From /usr/local/lib/python3.7/dist-packages/mrcnn/model.py:557: The name tf.random_shuffle is deprecated. Please use tf.random.shuffle instead.\n",
            "\n",
            "\u001b[32m2021-08-17 01:24:46\u001b[0m \u001b[35mcf0e1bb592d2\u001b[0m \u001b[34mtensorflow[1510]\u001b[0m \u001b[1;30mWARNING\u001b[0m \u001b[33mFrom /usr/local/lib/python3.7/dist-packages/mrcnn/model.py:557: The name tf.random_shuffle is deprecated. Please use tf.random.shuffle instead.\n",
            "\u001b[0m\n",
            "WARNING:tensorflow:From /usr/local/lib/python3.7/dist-packages/mrcnn/utils.py:200: The name tf.log is deprecated. Please use tf.math.log instead.\n",
            "\n",
            "\u001b[32m2021-08-17 01:24:46\u001b[0m \u001b[35mcf0e1bb592d2\u001b[0m \u001b[34mtensorflow[1510]\u001b[0m \u001b[1;30mWARNING\u001b[0m \u001b[33mFrom /usr/local/lib/python3.7/dist-packages/mrcnn/utils.py:200: The name tf.log is deprecated. Please use tf.math.log instead.\n",
            "\u001b[0m\n",
            "WARNING:tensorflow:From /usr/local/lib/python3.7/dist-packages/mrcnn/model.py:604: calling crop_and_resize_v1 (from tensorflow.python.ops.image_ops_impl) with box_ind is deprecated and will be removed in a future version.\n",
            "Instructions for updating:\n",
            "box_ind is deprecated, use box_indices instead\n",
            "\u001b[32m2021-08-17 01:24:46\u001b[0m \u001b[35mcf0e1bb592d2\u001b[0m \u001b[34mtensorflow[1510]\u001b[0m \u001b[1;30mWARNING\u001b[0m \u001b[33mFrom /usr/local/lib/python3.7/dist-packages/mrcnn/model.py:604: calling crop_and_resize_v1 (from tensorflow.python.ops.image_ops_impl) with box_ind is deprecated and will be removed in a future version.\n",
            "Instructions for updating:\n",
            "box_ind is deprecated, use box_indices instead\u001b[0m\n",
            "\u001b[32m2021-08-17 01:24:47\u001b[0m \u001b[35mcf0e1bb592d2\u001b[0m \u001b[34mh5py._conv[1510]\u001b[0m \u001b[1;30mDEBUG\u001b[0m \u001b[32mCreating converter from 3 to 5\u001b[0m\n",
            "Traceback (most recent call last):\n",
            "  File \"/content/Methane-detection-from-hyperspectral-imagery/single_detector/src/custom-mask-rcnn-detector/detector.py\", line 290, in <module>\n",
            "    \"mrcnn_bbox\", \"mrcnn_mask\"])\n",
            "  File \"/usr/local/lib/python3.7/dist-packages/mrcnn/model.py\", line 2122, in load_weights\n",
            "    saving.load_weights_from_hdf5_group_by_name(f, layers)\n",
            "  File \"/tensorflow-1.15.2/python3.7/keras/engine/saving.py\", line 1262, in load_weights_from_hdf5_group_by_name\n",
            "    original_keras_version = f.attrs['keras_version'].decode('utf8')\n",
            "AttributeError: 'str' object has no attribute 'decode'\n"
          ],
          "name": "stdout"
        },
        {
          "output_type": "execute_result",
          "data": {
            "application/vnd.google.colaboratory.intrinsic+json": {
              "type": "string"
            },
            "text/plain": [
              "'\\nimport tensorflow as tf\\nimport tensorflow.keras as keras\\nimport tensorflow.keras.backend as K\\nimport tensorflow.keras.layers as KL\\nimport keras.engine.topology as KE\\nimport tensorflow.keras.models as KM\\nimport tensorflow.keras.utils as KU\\n'"
            ]
          },
          "metadata": {
            "tags": []
          },
          "execution_count": 40
        }
      ]
    },
    {
      "cell_type": "markdown",
      "metadata": {
        "id": "5fYuV-bynicp"
      },
      "source": [
        "# ------------------"
      ]
    },
    {
      "cell_type": "code",
      "metadata": {
        "id": "Kh9eTZOePFHC"
      },
      "source": [
        "#extra kernel explaining what I have to redo in order to replicated the code:\n",
        "\n",
        "#remember to run every kernel in order before you do anything\n",
        "\n",
        "#in data_generator, replace all the paths of the three annotation tool files\n",
        "#you must replace the name with the full path\n",
        "#line 8:\n",
        "#python /content/Methane-detection-from-hyperspectral-imagery/single_detector/annotation_tool/mask_tiling.py $1\n",
        "#line 12:\n",
        "#python /content/Methane-detection-from-hyperspectral-imagery/single_detector/annotation_tool/json_creator.py $1\n",
        "#line 16:\n",
        "#python /content/Methane-detection-from-hyperspectral-imagery/single_detector/annotation_tool/train_data_generator.py $1\n",
        "\n",
        "\n",
        "#in train_data_generator, comment out lines 56-60, change line 55's directory to\n",
        "#PROCESSEDDATA_PATH = \"content/Methane-detection-from-hyperspectral-imagery/single_detector/src/custom-mask-rcnn-detector/ch4_data/train_data\" \n",
        "\n",
        "#line 132 in json_creator to \n",
        "#json_file = \"content/Methane-detection-from-hyperspectral-imagery/single_detector/src/custom-mask-rcnn-detector/ch4_data/annotation_plumes.json\"\n",
        "\n",
        "#errors will pop up saying \"Unable to locate file \"/content/Methane-detection-from-hyperspectral-imagery/single_detector/data//README.md/README.md_img.hdr\"\n",
        "#just replace the read me file in data with your data, which is in the following kernels\n",
        "#remember to move the installed/unzipped files out of wherever they decide to install in\n",
        "\n",
        "#in detector.py\n",
        "#line 30, replace with\n",
        "#DATASET_PATH = os.path.abspath(\"/content/Methane-detection-from-hyperspectral-imagery/single_detector/data/\")\n",
        "#line 31, replace with\n",
        "#ALL_IMAGES_PATH = os.path.sep.join([DATASET_PATH, \"ang20150419t161445_rdn_v1f\"])\n",
        "#!!! IMPORTANT: for line 32, download annotation_plumes.json from /src/custom-mask-rcnn-detector/ch4_data and paste a copy into the data directory\n",
        "#line 76, replace with\n",
        "#COCO_PATH = \"/content/gdrive/MyDrive/mask_rcnn/Mask_RCNN-TF2/mask_rcnn_coco.h5\"\n",
        "\n",
        "\n",
        "#when installing via !wget use !pwd to find where ur current directory is, thats where the !wget puts the installed file\n"
      ],
      "execution_count": null,
      "outputs": []
    },
    {
      "cell_type": "code",
      "metadata": {
        "colab": {
          "base_uri": "https://localhost:8080/"
        },
        "id": "lNvdabC5iC5c",
        "outputId": "1c10b39f-30c2-4dc7-b8de-59529ffdc79f"
      },
      "source": [
        "!wget https://avng.jpl.nasa.gov/avng/y15_data/ang20150419t161445.tar.gz"
      ],
      "execution_count": 6,
      "outputs": [
        {
          "output_type": "stream",
          "text": [
            "--2021-08-17 00:22:00--  https://avng.jpl.nasa.gov/avng/y15_data/ang20150419t161445.tar.gz\n",
            "Resolving avng.jpl.nasa.gov (avng.jpl.nasa.gov)... 137.78.180.72\n",
            "Connecting to avng.jpl.nasa.gov (avng.jpl.nasa.gov)|137.78.180.72|:443... connected.\n",
            "HTTP request sent, awaiting response... 200 OK\n",
            "Length: 22642173904 (21G) [application/x-gzip]\n",
            "Saving to: ‘ang20150419t161445.tar.gz’\n",
            "\n",
            "ang20150419t161445. 100%[===================>]  21.09G  43.3MB/s    in 9m 34s  \n",
            "\n",
            "2021-08-17 00:31:34 (37.6 MB/s) - ‘ang20150419t161445.tar.gz’ saved [22642173904/22642173904]\n",
            "\n"
          ],
          "name": "stdout"
        }
      ]
    },
    {
      "cell_type": "code",
      "metadata": {
        "colab": {
          "base_uri": "https://localhost:8080/"
        },
        "id": "90V-QvJBkmrX",
        "outputId": "d45d4907-fbc0-48b7-868a-688a2782edda"
      },
      "source": [
        "#remember you gotta move it out of whatever folder it got downloaded in so that its in the data folder\n",
        "!tar -xvzf /content/Methane-detection-from-hyperspectral-imagery/single_detector/data/ang20150419t161445.tar.gz"
      ],
      "execution_count": 7,
      "outputs": [
        {
          "output_type": "stream",
          "text": [
            "ang20150419t161445_rdn_v1f/\n",
            "ang20150419t161445_rdn_v1f/ang20150419t161445_rdn_v1f_glt.hdr\n",
            "ang20150419t161445_rdn_v1f/ang20150419t161445_rdn_v1f_img\n",
            "ang20150419t161445_rdn_v1f/ang20150419t161445_rdn_v1f_obs.hdr\n",
            "ang20150419t161445_rdn_v1f/ang20150419t161445_rdn_v1f_img.hdr\n",
            "ang20150419t161445_rdn_v1f/ang20150419t161445_rdn_v1f_loc\n",
            "ang20150419t161445_rdn_v1f/ang20150419t161445_rdn_v1f_igm.hdr\n",
            "ang20150419t161445_rdn_v1f/ang20150419t161445_rdn_v1f_obs_ort\n",
            "ang20150419t161445_rdn_v1f/ang20150419t161445_README_v1f.txt\n",
            "ang20150419t161445_rdn_v1f/ang20150419t161445_rdn_v1f_obs_ort.hdr\n",
            "ang20150419t161445_rdn_v1f/ang20150419t161445_rdn_v1f_glt\n",
            "ang20150419t161445_rdn_v1f/ang20150419t161445_rdn_v1f_loc.hdr\n",
            "ang20150419t161445_rdn_v1f/ang20150419t161445_rdn_v1f_obs\n",
            "ang20150419t161445_rdn_v1f/ang20150419t161445_rdn_v1f_igm\n"
          ],
          "name": "stdout"
        }
      ]
    },
    {
      "cell_type": "code",
      "metadata": {
        "colab": {
          "base_uri": "https://localhost:8080/"
        },
        "id": "406ciqZmUoWu",
        "outputId": "6b41d6a2-7496-4aaa-b663-ace4c7f2bba8"
      },
      "source": [
        "!pwd\n"
      ],
      "execution_count": 5,
      "outputs": [
        {
          "output_type": "stream",
          "text": [
            "/content/Methane-detection-from-hyperspectral-imagery/single_detector/data\n"
          ],
          "name": "stdout"
        }
      ]
    },
    {
      "cell_type": "code",
      "metadata": {
        "id": "sv2vOu1BMSq8",
        "colab": {
          "base_uri": "https://localhost:8080/"
        },
        "outputId": "a74dc0c9-3e6d-431c-e87a-87d042b036de"
      },
      "source": [
        "cd /content/Methane-detection-from-hyperspectral-imagery/single_detector/data"
      ],
      "execution_count": 4,
      "outputs": [
        {
          "output_type": "stream",
          "text": [
            "/content/Methane-detection-from-hyperspectral-imagery/single_detector/data\n"
          ],
          "name": "stdout"
        }
      ]
    },
    {
      "cell_type": "code",
      "metadata": {
        "colab": {
          "base_uri": "https://localhost:8080/"
        },
        "id": "uyWAtnsLebnm",
        "outputId": "29523ec4-aa1b-4f06-c0e9-78b6d9dcef73"
      },
      "source": [
        "cd .."
      ],
      "execution_count": 14,
      "outputs": [
        {
          "output_type": "stream",
          "text": [
            "/content\n"
          ],
          "name": "stdout"
        }
      ]
    },
    {
      "cell_type": "markdown",
      "metadata": {
        "id": "rsBn0DG6_aIm"
      },
      "source": [
        ""
      ]
    }
  ]
}